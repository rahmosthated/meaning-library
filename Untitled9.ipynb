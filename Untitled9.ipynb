{
  "nbformat": 4,
  "nbformat_minor": 0,
  "metadata": {
    "colab": {
      "provenance": [],
      "authorship_tag": "ABX9TyM9D9x2kJ3xNIN/GTnTYVYn",
      "include_colab_link": true
    },
    "kernelspec": {
      "name": "python3",
      "display_name": "Python 3"
    },
    "language_info": {
      "name": "python"
    }
  },
  "cells": [
    {
      "cell_type": "markdown",
      "metadata": {
        "id": "view-in-github",
        "colab_type": "text"
      },
      "source": [
        "<a href=\"https://colab.research.google.com/github/rahmosthated/meaning-library/blob/main/Untitled9.ipynb\" target=\"_parent\"><img src=\"https://colab.research.google.com/assets/colab-badge.svg\" alt=\"Open In Colab\"/></a>"
      ]
    },
    {
      "cell_type": "code",
      "source": [
        "# Step 1: Create the initial library as a list of dictionaries\n",
        "library = [\n",
        "    {\n",
        "        \"Title\": \"To Kill a Mockingbird\",\n",
        "        \"Author\": \"Harper Lee\",\n",
        "        \"Year\": 1960,\n",
        "        \"Available\": True\n",
        "    },\n",
        "    {\n",
        "        \"Title\": \"1984\",\n",
        "        \"Author\": \"George Orwell\",\n",
        "        \"Year\": 1949,\n",
        "        \"Available\": False\n",
        "    }\n",
        "]\n",
        "\n",
        "# Step 2: Print the initial library\n",
        "print(\"Initial Library:\")\n",
        "for book in library:\n",
        "    print(book)  # Print each book's information\n",
        "\n",
        "# Step 3: Change availability of '1984' to True\n",
        "library[1][\"Available\"] = True  # Access the second book and update 'Available'\n",
        "\n",
        "# Step 4: Print the library after the update\n",
        "print(\"\\nLibrary After Availability Change:\")\n",
        "for book in library:\n",
        "    print(book)  # Print each book's updated info\n",
        "\n",
        "# Step 5: Add a new book to the library\n",
        "new_book = {\n",
        "    \"Title\": \"The Great Gatsby\",\n",
        "    \"Author\": \"F. Scott Fitzgerald\",\n",
        "    \"Year\": 1925,\n",
        "    \"Available\": True\n",
        "}\n",
        "library.append(new_book)  # Add the new book to the list\n",
        "\n",
        "# Step 6: Print the final library with the new book\n",
        "print(\"\\nFinal Library with New Book:\")\n",
        "for book in library:\n",
        "    print(book)  # Print the full library list\n"
      ],
      "metadata": {
        "id": "9KK4iQfA3Lrn"
      },
      "execution_count": null,
      "outputs": []
    }
  ]
}