{
  "nbformat": 4,
  "nbformat_minor": 0,
  "metadata": {
    "colab": {
      "provenance": [],
      "authorship_tag": "ABX9TyP30Bz4myk4vpt4GTVH/QlN",
      "include_colab_link": true
    },
    "kernelspec": {
      "name": "python3",
      "display_name": "Python 3"
    },
    "language_info": {
      "name": "python"
    }
  },
  "cells": [
    {
      "cell_type": "markdown",
      "metadata": {
        "id": "view-in-github",
        "colab_type": "text"
      },
      "source": [
        "<a href=\"https://colab.research.google.com/github/rahmosthated/meaning-library/blob/main/Untitled9.ipynb\" target=\"_parent\"><img src=\"https://colab.research.google.com/assets/colab-badge.svg\" alt=\"Open In Colab\"/></a>"
      ]
    },
    {
      "cell_type": "code",
      "execution_count": 1,
      "metadata": {
        "colab": {
          "base_uri": "https://localhost:8080/"
        },
        "id": "38kSMoIq1aso",
        "outputId": "b004f9a1-cc9b-4ceb-9368-8e572261dd20"
      },
      "outputs": [
        {
          "output_type": "stream",
          "name": "stdout",
          "text": [
            "Initial Library:\n",
            "{'Title': 'To Kill a Mockingbird', 'Author': 'Harper Lee', 'Year': 1960, 'Available': True}\n",
            "{'Title': '1984', 'Author': 'George Orwell', 'Year': 1949, 'Available': False}\n",
            "\n",
            "Library After Availability Change:\n",
            "{'Title': 'To Kill a Mockingbird', 'Author': 'Harper Lee', 'Year': 1960, 'Available': True}\n",
            "{'Title': '1984', 'Author': 'George Orwell', 'Year': 1949, 'Available': True}\n",
            "\n",
            "Final Library with New Book:\n",
            "{'Title': 'To Kill a Mockingbird', 'Author': 'Harper Lee', 'Year': 1960, 'Available': True}\n",
            "{'Title': '1984', 'Author': 'George Orwell', 'Year': 1949, 'Available': True}\n",
            "{'Title': 'The Great Gatsby', 'Author': 'F. Scott Fitzgerald', 'Year': 1925, 'Available': True}\n"
          ]
        }
      ],
      "source": [
        "library = [\n",
        "    {\"Title\": \"To Kill a Mockingbird\", \"Author\": \"Harper Lee\", \"Year\": 1960, \"Available\": True},\n",
        "    {\"Title\": \"1984\", \"Author\": \"George Orwell\", \"Year\": 1949, \"Available\": False}\n",
        "]\n",
        "print(\"Initial Library:\")\n",
        "for book in library:\n",
        "    print(book)\n",
        "# Change '1984' to Available = True\n",
        "library[1][\"Available\"] = True\n",
        "print(\"\\nLibrary After Availability Change:\")\n",
        "for book in library:\n",
        "    print(book)\n",
        "new_book = {\"Title\": \"The Great Gatsby\", \"Author\": \"F. Scott Fitzgerald\", \"Year\": 1925, \"Available\": True}\n",
        "library.append(new_book)\n",
        "print(\"\\nFinal Library with New Book:\")\n",
        "for book in library:\n",
        "    print(book)\n"
      ]
    }
  ]
}